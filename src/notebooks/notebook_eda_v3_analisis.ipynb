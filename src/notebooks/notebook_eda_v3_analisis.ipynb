{
 "cells": [
  {
   "cell_type": "markdown",
   "metadata": {},
   "source": [
    "## Comenzamos con Analisis Exploratorio"
   ]
  },
  {
   "cell_type": "markdown",
   "metadata": {},
   "source": [
    "- Importamos las funciones que vayamos creando:"
   ]
  },
  {
   "cell_type": "code",
   "execution_count": 2,
   "metadata": {},
   "outputs": [
    {
     "name": "stdout",
     "output_type": "stream",
     "text": [
      "c:\\Users\\Usuario\\REPO_BOOTCAMP\\EDA_entrega\\src\\notebooks\n"
     ]
    }
   ],
   "source": [
    "import os\n",
    "print(os.getcwd())"
   ]
  },
  {
   "cell_type": "code",
   "execution_count": 3,
   "metadata": {},
   "outputs": [],
   "source": [
    "#os.chdir('c:/BOOTCAMPASUS/EDA_entrega/src')"
   ]
  },
  {
   "cell_type": "code",
   "execution_count": 3,
   "metadata": {},
   "outputs": [],
   "source": [
    "os.chdir('c:/Users/Usuario/REPO_BOOTCAMP/EDA_entrega/src')\n"
   ]
  },
  {
   "cell_type": "code",
   "execution_count": 4,
   "metadata": {},
   "outputs": [
    {
     "name": "stdout",
     "output_type": "stream",
     "text": [
      "c:\\Users\\Usuario\\REPO_BOOTCAMP\\EDA_entrega\\src\n"
     ]
    }
   ],
   "source": [
    "print(os.getcwd())"
   ]
  },
  {
   "cell_type": "code",
   "execution_count": 5,
   "metadata": {},
   "outputs": [],
   "source": [
    "# Importamos\n",
    "import numpy as np\n",
    "import matplotlib.pyplot as plt\n",
    "import pandas as pd\n",
    "import seaborn as sns\n",
    "from utils.funciones_eda import *"
   ]
  },
  {
   "cell_type": "code",
   "execution_count": 6,
   "metadata": {},
   "outputs": [
    {
     "data": {
      "text/html": [
       "<div>\n",
       "<style scoped>\n",
       "    .dataframe tbody tr th:only-of-type {\n",
       "        vertical-align: middle;\n",
       "    }\n",
       "\n",
       "    .dataframe tbody tr th {\n",
       "        vertical-align: top;\n",
       "    }\n",
       "\n",
       "    .dataframe thead th {\n",
       "        text-align: right;\n",
       "    }\n",
       "</style>\n",
       "<table border=\"1\" class=\"dataframe\">\n",
       "  <thead>\n",
       "    <tr style=\"text-align: right;\">\n",
       "      <th></th>\n",
       "      <th>Invoice</th>\n",
       "      <th>StockCode</th>\n",
       "      <th>Description</th>\n",
       "      <th>Quantity</th>\n",
       "      <th>InvoiceDate</th>\n",
       "      <th>Price</th>\n",
       "      <th>Customer_ID</th>\n",
       "      <th>Country</th>\n",
       "      <th>Devolucion</th>\n",
       "      <th>Ventas</th>\n",
       "      <th>Precio_Total</th>\n",
       "      <th>Trimestres</th>\n",
       "    </tr>\n",
       "  </thead>\n",
       "  <tbody>\n",
       "    <tr>\n",
       "      <th>0</th>\n",
       "      <td>493410</td>\n",
       "      <td>TEST001</td>\n",
       "      <td>This is a test product.</td>\n",
       "      <td>5</td>\n",
       "      <td>2010-01-04 09:24:00</td>\n",
       "      <td>3.900000</td>\n",
       "      <td>12346.0</td>\n",
       "      <td>United Kingdom</td>\n",
       "      <td>False</td>\n",
       "      <td>True</td>\n",
       "      <td>19.50</td>\n",
       "      <td>1</td>\n",
       "    </tr>\n",
       "    <tr>\n",
       "      <th>1</th>\n",
       "      <td>C493411</td>\n",
       "      <td>21539</td>\n",
       "      <td>RETRO SPOTS BUTTER DISH</td>\n",
       "      <td>1</td>\n",
       "      <td>2010-01-04 09:43:00</td>\n",
       "      <td>5.796827</td>\n",
       "      <td>14590.0</td>\n",
       "      <td>United Kingdom</td>\n",
       "      <td>True</td>\n",
       "      <td>False</td>\n",
       "      <td>5.80</td>\n",
       "      <td>1</td>\n",
       "    </tr>\n",
       "    <tr>\n",
       "      <th>2</th>\n",
       "      <td>493412</td>\n",
       "      <td>TEST001</td>\n",
       "      <td>This is a test product.</td>\n",
       "      <td>5</td>\n",
       "      <td>2010-01-04 09:53:00</td>\n",
       "      <td>3.900000</td>\n",
       "      <td>12346.0</td>\n",
       "      <td>United Kingdom</td>\n",
       "      <td>False</td>\n",
       "      <td>True</td>\n",
       "      <td>19.50</td>\n",
       "      <td>1</td>\n",
       "    </tr>\n",
       "    <tr>\n",
       "      <th>3</th>\n",
       "      <td>493413</td>\n",
       "      <td>21724</td>\n",
       "      <td>PANDA AND BUNNIES STICKER SHEET</td>\n",
       "      <td>1</td>\n",
       "      <td>2010-01-04 09:54:00</td>\n",
       "      <td>1.046759</td>\n",
       "      <td>12345.0</td>\n",
       "      <td>United Kingdom</td>\n",
       "      <td>False</td>\n",
       "      <td>True</td>\n",
       "      <td>1.05</td>\n",
       "      <td>1</td>\n",
       "    </tr>\n",
       "    <tr>\n",
       "      <th>4</th>\n",
       "      <td>493413</td>\n",
       "      <td>84578</td>\n",
       "      <td>ELEPHANT TOY WITH BLUE T-SHIRT</td>\n",
       "      <td>1</td>\n",
       "      <td>2010-01-04 09:54:00</td>\n",
       "      <td>3.834224</td>\n",
       "      <td>12345.0</td>\n",
       "      <td>United Kingdom</td>\n",
       "      <td>False</td>\n",
       "      <td>True</td>\n",
       "      <td>3.83</td>\n",
       "      <td>1</td>\n",
       "    </tr>\n",
       "  </tbody>\n",
       "</table>\n",
       "</div>"
      ],
      "text/plain": [
       "   Invoice StockCode                      Description  Quantity  \\\n",
       "0   493410   TEST001          This is a test product.         5   \n",
       "1  C493411     21539          RETRO SPOTS BUTTER DISH         1   \n",
       "2   493412   TEST001          This is a test product.         5   \n",
       "3   493413     21724  PANDA AND BUNNIES STICKER SHEET         1   \n",
       "4   493413     84578   ELEPHANT TOY WITH BLUE T-SHIRT         1   \n",
       "\n",
       "           InvoiceDate     Price  Customer_ID         Country  Devolucion  \\\n",
       "0  2010-01-04 09:24:00  3.900000      12346.0  United Kingdom       False   \n",
       "1  2010-01-04 09:43:00  5.796827      14590.0  United Kingdom        True   \n",
       "2  2010-01-04 09:53:00  3.900000      12346.0  United Kingdom       False   \n",
       "3  2010-01-04 09:54:00  1.046759      12345.0  United Kingdom       False   \n",
       "4  2010-01-04 09:54:00  3.834224      12345.0  United Kingdom       False   \n",
       "\n",
       "   Ventas  Precio_Total  Trimestres  \n",
       "0    True         19.50           1  \n",
       "1   False          5.80           1  \n",
       "2    True         19.50           1  \n",
       "3    True          1.05           1  \n",
       "4    True          3.83           1  "
      ]
     },
     "execution_count": 6,
     "metadata": {},
     "output_type": "execute_result"
    }
   ],
   "source": [
    "df_online_retail_2010 = pd.read_csv(\"./data/online_retail_2010.csv\")\n",
    "df_online_retail_2010.head(5)"
   ]
  },
  {
   "cell_type": "markdown",
   "metadata": {},
   "source": [
    "### Tabla de Variables"
   ]
  },
  {
   "cell_type": "markdown",
   "metadata": {},
   "source": [
    "|Columna/Variable|Descripción|Tipo_de_Variable|Importancia inicial|Nota|\n",
    "|-|-|-|-|-|\n",
    "|Invoice|Numero de factura o ticket|||Hay numeros y letras|\n",
    "|StockCode|Numero identificativo del producto||||\n",
    "|Description|Nombre detallado del producto| | | |\n",
    "|Quantity|Cantidad de producto adquirido o devuelto| | || |\n",
    "|InvoiceDate| Fecha de la factura o ticket| | | |\n",
    "|Price| Precio del articulo por unidad| | | |\n",
    "|Customer_ID | Identificativo del cliente| | | |\n",
    "|Country| Pais de donde procede el movimiento | | | |\n",
    "|Devolucion| Devolucion| | | |\n",
    "|Ventas| Ventas| | | |\n",
    "|Precio_Total| Cuantia de la factura o ticket| | | |\n",
    "|Trimestres| Trimestre al que pertenece el movimiento | | |Tenemos 4 trimestres|"
   ]
  },
  {
   "cell_type": "code",
   "execution_count": 7,
   "metadata": {},
   "outputs": [
    {
     "data": {
      "text/html": [
       "<div>\n",
       "<style scoped>\n",
       "    .dataframe tbody tr th:only-of-type {\n",
       "        vertical-align: middle;\n",
       "    }\n",
       "\n",
       "    .dataframe tbody tr th {\n",
       "        vertical-align: top;\n",
       "    }\n",
       "\n",
       "    .dataframe thead th {\n",
       "        text-align: right;\n",
       "    }\n",
       "</style>\n",
       "<table border=\"1\" class=\"dataframe\">\n",
       "  <thead>\n",
       "    <tr style=\"text-align: right;\">\n",
       "      <th></th>\n",
       "      <th>Card</th>\n",
       "      <th>%_Card</th>\n",
       "      <th>Tipo</th>\n",
       "    </tr>\n",
       "  </thead>\n",
       "  <tbody>\n",
       "    <tr>\n",
       "      <th>Invoice</th>\n",
       "      <td>26164</td>\n",
       "      <td>5.451856</td>\n",
       "      <td>object</td>\n",
       "    </tr>\n",
       "    <tr>\n",
       "      <th>StockCode</th>\n",
       "      <td>4195</td>\n",
       "      <td>0.874122</td>\n",
       "      <td>object</td>\n",
       "    </tr>\n",
       "    <tr>\n",
       "      <th>Description</th>\n",
       "      <td>4037</td>\n",
       "      <td>0.841199</td>\n",
       "      <td>object</td>\n",
       "    </tr>\n",
       "    <tr>\n",
       "      <th>Quantity</th>\n",
       "      <td>514</td>\n",
       "      <td>0.107103</td>\n",
       "      <td>int64</td>\n",
       "    </tr>\n",
       "    <tr>\n",
       "      <th>InvoiceDate</th>\n",
       "      <td>23113</td>\n",
       "      <td>4.816111</td>\n",
       "      <td>object</td>\n",
       "    </tr>\n",
       "    <tr>\n",
       "      <th>Price</th>\n",
       "      <td>3840</td>\n",
       "      <td>0.80015</td>\n",
       "      <td>float64</td>\n",
       "    </tr>\n",
       "    <tr>\n",
       "      <th>Customer_ID</th>\n",
       "      <td>4259</td>\n",
       "      <td>0.887458</td>\n",
       "      <td>float64</td>\n",
       "    </tr>\n",
       "    <tr>\n",
       "      <th>Country</th>\n",
       "      <td>40</td>\n",
       "      <td>0.008335</td>\n",
       "      <td>object</td>\n",
       "    </tr>\n",
       "    <tr>\n",
       "      <th>Devolucion</th>\n",
       "      <td>2</td>\n",
       "      <td>0.000417</td>\n",
       "      <td>bool</td>\n",
       "    </tr>\n",
       "    <tr>\n",
       "      <th>Ventas</th>\n",
       "      <td>2</td>\n",
       "      <td>0.000417</td>\n",
       "      <td>bool</td>\n",
       "    </tr>\n",
       "    <tr>\n",
       "      <th>Precio_Total</th>\n",
       "      <td>13445</td>\n",
       "      <td>2.801567</td>\n",
       "      <td>float64</td>\n",
       "    </tr>\n",
       "    <tr>\n",
       "      <th>Trimestres</th>\n",
       "      <td>4</td>\n",
       "      <td>0.000833</td>\n",
       "      <td>int64</td>\n",
       "    </tr>\n",
       "  </tbody>\n",
       "</table>\n",
       "</div>"
      ],
      "text/plain": [
       "               Card    %_Card     Tipo\n",
       "Invoice       26164  5.451856   object\n",
       "StockCode      4195  0.874122   object\n",
       "Description    4037  0.841199   object\n",
       "Quantity        514  0.107103    int64\n",
       "InvoiceDate   23113  4.816111   object\n",
       "Price          3840   0.80015  float64\n",
       "Customer_ID    4259  0.887458  float64\n",
       "Country          40  0.008335   object\n",
       "Devolucion        2  0.000417     bool\n",
       "Ventas            2  0.000417     bool\n",
       "Precio_Total  13445  2.801567  float64\n",
       "Trimestres        4  0.000833    int64"
      ]
     },
     "execution_count": 7,
     "metadata": {},
     "output_type": "execute_result"
    }
   ],
   "source": [
    "# Cardinalidad\n",
    "df_o_r_2010_tipificacion = pd.DataFrame([df_online_retail_2010.nunique(), df_online_retail_2010.nunique()/len(df_online_retail_2010) * 100, df_online_retail_2010.dtypes]).T.rename(columns = {0: \"Card\",\\\n",
    "                                                                                                          1: \"%_Card\", 2: \"Tipo\"})\n",
    "df_o_r_2010_tipificacion"
   ]
  },
  {
   "cell_type": "code",
   "execution_count": 8,
   "metadata": {},
   "outputs": [
    {
     "data": {
      "text/html": [
       "<div>\n",
       "<style scoped>\n",
       "    .dataframe tbody tr th:only-of-type {\n",
       "        vertical-align: middle;\n",
       "    }\n",
       "\n",
       "    .dataframe tbody tr th {\n",
       "        vertical-align: top;\n",
       "    }\n",
       "\n",
       "    .dataframe thead th {\n",
       "        text-align: right;\n",
       "    }\n",
       "</style>\n",
       "<table border=\"1\" class=\"dataframe\">\n",
       "  <thead>\n",
       "    <tr style=\"text-align: right;\">\n",
       "      <th></th>\n",
       "      <th>Columna</th>\n",
       "      <th>Cardinalidad</th>\n",
       "      <th>Porcentaje Cardinalidad</th>\n",
       "      <th>Tipo</th>\n",
       "    </tr>\n",
       "  </thead>\n",
       "  <tbody>\n",
       "    <tr>\n",
       "      <th>0</th>\n",
       "      <td>Invoice</td>\n",
       "      <td>26164</td>\n",
       "      <td>5.451856</td>\n",
       "      <td>Numérica Discreta</td>\n",
       "    </tr>\n",
       "    <tr>\n",
       "      <th>1</th>\n",
       "      <td>StockCode</td>\n",
       "      <td>4195</td>\n",
       "      <td>0.874122</td>\n",
       "      <td>Numérica Discreta</td>\n",
       "    </tr>\n",
       "    <tr>\n",
       "      <th>2</th>\n",
       "      <td>Description</td>\n",
       "      <td>4037</td>\n",
       "      <td>0.841199</td>\n",
       "      <td>Numérica Discreta</td>\n",
       "    </tr>\n",
       "    <tr>\n",
       "      <th>3</th>\n",
       "      <td>Quantity</td>\n",
       "      <td>514</td>\n",
       "      <td>0.107103</td>\n",
       "      <td>Numérica Discreta</td>\n",
       "    </tr>\n",
       "    <tr>\n",
       "      <th>4</th>\n",
       "      <td>InvoiceDate</td>\n",
       "      <td>23113</td>\n",
       "      <td>4.816111</td>\n",
       "      <td>Numérica Discreta</td>\n",
       "    </tr>\n",
       "    <tr>\n",
       "      <th>5</th>\n",
       "      <td>Price</td>\n",
       "      <td>3840</td>\n",
       "      <td>0.800150</td>\n",
       "      <td>Numérica Discreta</td>\n",
       "    </tr>\n",
       "    <tr>\n",
       "      <th>6</th>\n",
       "      <td>Customer_ID</td>\n",
       "      <td>4259</td>\n",
       "      <td>0.887458</td>\n",
       "      <td>Numérica Discreta</td>\n",
       "    </tr>\n",
       "    <tr>\n",
       "      <th>7</th>\n",
       "      <td>Country</td>\n",
       "      <td>40</td>\n",
       "      <td>0.008335</td>\n",
       "      <td>Numérica Discreta</td>\n",
       "    </tr>\n",
       "    <tr>\n",
       "      <th>8</th>\n",
       "      <td>Devolucion</td>\n",
       "      <td>2</td>\n",
       "      <td>0.000417</td>\n",
       "      <td>Binaria</td>\n",
       "    </tr>\n",
       "    <tr>\n",
       "      <th>9</th>\n",
       "      <td>Ventas</td>\n",
       "      <td>2</td>\n",
       "      <td>0.000417</td>\n",
       "      <td>Binaria</td>\n",
       "    </tr>\n",
       "    <tr>\n",
       "      <th>10</th>\n",
       "      <td>Precio_Total</td>\n",
       "      <td>13445</td>\n",
       "      <td>2.801567</td>\n",
       "      <td>Numérica Discreta</td>\n",
       "    </tr>\n",
       "    <tr>\n",
       "      <th>11</th>\n",
       "      <td>Trimestres</td>\n",
       "      <td>4</td>\n",
       "      <td>0.000833</td>\n",
       "      <td>Categórica</td>\n",
       "    </tr>\n",
       "  </tbody>\n",
       "</table>\n",
       "</div>"
      ],
      "text/plain": [
       "         Columna  Cardinalidad  Porcentaje Cardinalidad               Tipo\n",
       "0        Invoice         26164                 5.451856  Numérica Discreta\n",
       "1      StockCode          4195                 0.874122  Numérica Discreta\n",
       "2    Description          4037                 0.841199  Numérica Discreta\n",
       "3       Quantity           514                 0.107103  Numérica Discreta\n",
       "4    InvoiceDate         23113                 4.816111  Numérica Discreta\n",
       "5          Price          3840                 0.800150  Numérica Discreta\n",
       "6    Customer_ID          4259                 0.887458  Numérica Discreta\n",
       "7        Country            40                 0.008335  Numérica Discreta\n",
       "8     Devolucion             2                 0.000417            Binaria\n",
       "9         Ventas             2                 0.000417            Binaria\n",
       "10  Precio_Total         13445                 2.801567  Numérica Discreta\n",
       "11    Trimestres             4                 0.000833         Categórica"
      ]
     },
     "execution_count": 8,
     "metadata": {},
     "output_type": "execute_result"
    }
   ],
   "source": [
    "# Sigamos con la cardinalidad y los tipos:\n",
    "\n",
    "cardinalidad(df_online_retail_2010, 10, 30)"
   ]
  },
  {
   "cell_type": "markdown",
   "metadata": {},
   "source": [
    "|Columna/Variable|Descripción|Tipo_de_Variable|Importancia inicial|Nota|\n",
    "|-|-|-|-|-|\n",
    "|Invoice|Numero de factura o ticket|Numerica Discreta|3|Hay numeros y letras|\n",
    "|StockCode|Numero identificativo del producto|Numerica Discreta|1||\n",
    "|Description|Nombre detallado del producto|Numerica Discreta |2 | |\n",
    "|Quantity|Cantidad de producto adquirido o devuelto| Numerica Discreta|3 || |\n",
    "|InvoiceDate| Fecha de la factura o ticket|Numerica Discreta |3| |\n",
    "|Price| Precio del articulo por unidad| Numerica Discreta|3 | |\n",
    "|Customer_ID | Identificativo del cliente|Numerica Discreta |2 | |\n",
    "|Country| Pais de donde procede el movimiento |Numerica Discreta |0 | |\n",
    "|Devolucion| Devolucion| Binaria|0 |True or False |\n",
    "|Ventas| Ventas| Binaria|0 |True or False |\n",
    "|Precio_Total| Cuantia de la factura o ticket|Numerica Discreta |0 | |\n",
    "|Trimestres| Trimestre al que pertenece el movimiento | Categorica|0 |Tenemos 4 trimestres|"
   ]
  },
  {
   "cell_type": "code",
   "execution_count": 9,
   "metadata": {},
   "outputs": [
    {
     "data": {
      "text/html": [
       "<div>\n",
       "<style scoped>\n",
       "    .dataframe tbody tr th:only-of-type {\n",
       "        vertical-align: middle;\n",
       "    }\n",
       "\n",
       "    .dataframe tbody tr th {\n",
       "        vertical-align: top;\n",
       "    }\n",
       "\n",
       "    .dataframe thead th {\n",
       "        text-align: right;\n",
       "    }\n",
       "</style>\n",
       "<table border=\"1\" class=\"dataframe\">\n",
       "  <thead>\n",
       "    <tr style=\"text-align: right;\">\n",
       "      <th></th>\n",
       "      <th>Quantity</th>\n",
       "      <th>Price</th>\n",
       "      <th>Customer_ID</th>\n",
       "      <th>Precio_Total</th>\n",
       "      <th>Trimestres</th>\n",
       "    </tr>\n",
       "  </thead>\n",
       "  <tbody>\n",
       "    <tr>\n",
       "      <th>count</th>\n",
       "      <td>479910.000000</td>\n",
       "      <td>479910.000000</td>\n",
       "      <td>479910.000000</td>\n",
       "      <td>479910.000000</td>\n",
       "      <td>479910.000000</td>\n",
       "    </tr>\n",
       "    <tr>\n",
       "      <th>mean</th>\n",
       "      <td>12.633556</td>\n",
       "      <td>4.742286</td>\n",
       "      <td>14762.242112</td>\n",
       "      <td>37.213928</td>\n",
       "      <td>2.678969</td>\n",
       "    </tr>\n",
       "    <tr>\n",
       "      <th>std</th>\n",
       "      <td>108.094221</td>\n",
       "      <td>123.214806</td>\n",
       "      <td>1923.423031</td>\n",
       "      <td>1156.137438</td>\n",
       "      <td>1.144138</td>\n",
       "    </tr>\n",
       "    <tr>\n",
       "      <th>min</th>\n",
       "      <td>1.000000</td>\n",
       "      <td>-45517.340000</td>\n",
       "      <td>12345.000000</td>\n",
       "      <td>-45517.340000</td>\n",
       "      <td>1.000000</td>\n",
       "    </tr>\n",
       "    <tr>\n",
       "      <th>25%</th>\n",
       "      <td>1.000000</td>\n",
       "      <td>1.432385</td>\n",
       "      <td>12826.000000</td>\n",
       "      <td>3.890000</td>\n",
       "      <td>2.000000</td>\n",
       "    </tr>\n",
       "    <tr>\n",
       "      <th>50%</th>\n",
       "      <td>3.000000</td>\n",
       "      <td>2.257033</td>\n",
       "      <td>14646.000000</td>\n",
       "      <td>10.700000</td>\n",
       "      <td>3.000000</td>\n",
       "    </tr>\n",
       "    <tr>\n",
       "      <th>75%</th>\n",
       "      <td>12.000000</td>\n",
       "      <td>4.152750</td>\n",
       "      <td>16469.000000</td>\n",
       "      <td>20.280000</td>\n",
       "      <td>4.000000</td>\n",
       "    </tr>\n",
       "    <tr>\n",
       "      <th>max</th>\n",
       "      <td>19152.000000</td>\n",
       "      <td>8859.906667</td>\n",
       "      <td>18287.000000</td>\n",
       "      <td>446142.630000</td>\n",
       "      <td>4.000000</td>\n",
       "    </tr>\n",
       "  </tbody>\n",
       "</table>\n",
       "</div>"
      ],
      "text/plain": [
       "            Quantity          Price    Customer_ID   Precio_Total  \\\n",
       "count  479910.000000  479910.000000  479910.000000  479910.000000   \n",
       "mean       12.633556       4.742286   14762.242112      37.213928   \n",
       "std       108.094221     123.214806    1923.423031    1156.137438   \n",
       "min         1.000000  -45517.340000   12345.000000  -45517.340000   \n",
       "25%         1.000000       1.432385   12826.000000       3.890000   \n",
       "50%         3.000000       2.257033   14646.000000      10.700000   \n",
       "75%        12.000000       4.152750   16469.000000      20.280000   \n",
       "max     19152.000000    8859.906667   18287.000000  446142.630000   \n",
       "\n",
       "          Trimestres  \n",
       "count  479910.000000  \n",
       "mean        2.678969  \n",
       "std         1.144138  \n",
       "min         1.000000  \n",
       "25%         2.000000  \n",
       "50%         3.000000  \n",
       "75%         4.000000  \n",
       "max         4.000000  "
      ]
     },
     "execution_count": 9,
     "metadata": {},
     "output_type": "execute_result"
    }
   ],
   "source": [
    "# Localizamos valores minimos, maximos...\n",
    "\n",
    "df_online_retail_2010.describe()"
   ]
  },
  {
   "cell_type": "code",
   "execution_count": 10,
   "metadata": {},
   "outputs": [],
   "source": [
    "def eliminar_outliers_iqr2(df, columnas, factor=3.5, graficar=False):\n",
    "    \"\"\"\n",
    "    Reemplaza outliers con NaN en múltiples columnas usando IQR sin eliminar filas completas.\n",
    "    \n",
    "    Parámetros:\n",
    "    - df: DataFrame de entrada.\n",
    "    - columnas: (list) Lista de nombres de columnas a procesar.\n",
    "    - factor: (float) Factor multiplicador del IQR (por defecto: 3.5).\n",
    "    - graficar: (bool) Mostrar boxplots antes y después (opcional).\n",
    "\n",
    "    Retorna:\n",
    "    - DataFrame con outliers reemplazados por NaN solo en las columnas seleccionadas.\n",
    "    \"\"\"\n",
    "    df_limpio = df.copy()\n",
    "    \n",
    "    for columna in columnas:\n",
    "        # Calcular Q1, Q3 e IQR\n",
    "        Q1 = df[columna].quantile(0.25)\n",
    "        Q3 = df[columna].quantile(0.75)\n",
    "        IQR = Q3 - Q1\n",
    "\n",
    "        # Definir límites\n",
    "        lower_bound = Q1 - factor * IQR\n",
    "        upper_bound = Q3 + factor * IQR\n",
    "\n",
    "        # Reemplazar outliers con NaN\n",
    "        df_limpio.loc[(df[columna] < lower_bound) | (df[columna] > upper_bound), columna] = np.nan\n",
    "\n",
    "        # Graficar boxplots (opcional)\n",
    "        if graficar:\n",
    "            fig, axes = plt.subplots(1, 2, figsize=(12, 5))\n",
    "            df[columna].plot(kind='box', ax=axes[0], title=f\"Antes de eliminar outliers ({columna})\")\n",
    "            df_limpio[columna].plot(kind='box', ax=axes[1], title=f\"Después de eliminar outliers ({columna})\")\n",
    "            plt.show()\n",
    "\n",
    "    return df_limpio\n",
    "\n"
   ]
  },
  {
   "cell_type": "code",
   "execution_count": 11,
   "metadata": {},
   "outputs": [],
   "source": [
    "columnas_outliers = [\"Price\", \"Precio_Total\", \"Quantity\"]"
   ]
  },
  {
   "cell_type": "code",
   "execution_count": 12,
   "metadata": {},
   "outputs": [
    {
     "data": {
      "image/png": "[encoded data removed]",
      "text/plain": [
       "<Figure size 1200x500 with 2 Axes>"
      ]
     },
     "metadata": {},
     "output_type": "display_data"
    },
    {
     "data": {
      "image/png": "[encoded data removed]",
      "text/plain": [
       "<Figure size 1200x500 with 2 Axes>"
      ]
     },
     "metadata": {},
     "output_type": "display_data"
    },
    {
     "data": {
      "image/png": "[encoded data removed]",
      "text/plain": [
       "<Figure size 1200x500 with 2 Axes>"
      ]
     },
     "metadata": {},
     "output_type": "display_data"
    }
   ],
   "source": [
    "df_limpio = eliminar_outliers_iqr2(\n",
    "    df=df_online_retail_2010, \n",
    "    columnas=columnas_outliers, \n",
    "    factor=8, \n",
    "    graficar=True  \n",
    ")"
   ]
  },
  {
   "cell_type": "code",
   "execution_count": 13,
   "metadata": {},
   "outputs": [
    {
     "data": {
      "text/html": [
       "<div>\n",
       "<style scoped>\n",
       "    .dataframe tbody tr th:only-of-type {\n",
       "        vertical-align: middle;\n",
       "    }\n",
       "\n",
       "    .dataframe tbody tr th {\n",
       "        vertical-align: top;\n",
       "    }\n",
       "\n",
       "    .dataframe thead th {\n",
       "        text-align: right;\n",
       "    }\n",
       "</style>\n",
       "<table border=\"1\" class=\"dataframe\">\n",
       "  <thead>\n",
       "    <tr style=\"text-align: right;\">\n",
       "      <th></th>\n",
       "      <th>Invoice</th>\n",
       "      <th>StockCode</th>\n",
       "      <th>Description</th>\n",
       "      <th>Quantity</th>\n",
       "      <th>InvoiceDate</th>\n",
       "      <th>Price</th>\n",
       "      <th>Customer_ID</th>\n",
       "      <th>Country</th>\n",
       "      <th>Devolucion</th>\n",
       "      <th>Ventas</th>\n",
       "      <th>Precio_Total</th>\n",
       "      <th>Trimestres</th>\n",
       "    </tr>\n",
       "  </thead>\n",
       "  <tbody>\n",
       "    <tr>\n",
       "      <th>0</th>\n",
       "      <td>493410</td>\n",
       "      <td>TEST001</td>\n",
       "      <td>This is a test product.</td>\n",
       "      <td>5.0</td>\n",
       "      <td>2010-01-04 09:24:00</td>\n",
       "      <td>3.900000</td>\n",
       "      <td>12346.0</td>\n",
       "      <td>United Kingdom</td>\n",
       "      <td>False</td>\n",
       "      <td>True</td>\n",
       "      <td>19.50</td>\n",
       "      <td>1</td>\n",
       "    </tr>\n",
       "    <tr>\n",
       "      <th>1</th>\n",
       "      <td>C493411</td>\n",
       "      <td>21539</td>\n",
       "      <td>RETRO SPOTS BUTTER DISH</td>\n",
       "      <td>1.0</td>\n",
       "      <td>2010-01-04 09:43:00</td>\n",
       "      <td>5.796827</td>\n",
       "      <td>14590.0</td>\n",
       "      <td>United Kingdom</td>\n",
       "      <td>True</td>\n",
       "      <td>False</td>\n",
       "      <td>5.80</td>\n",
       "      <td>1</td>\n",
       "    </tr>\n",
       "    <tr>\n",
       "      <th>2</th>\n",
       "      <td>493412</td>\n",
       "      <td>TEST001</td>\n",
       "      <td>This is a test product.</td>\n",
       "      <td>5.0</td>\n",
       "      <td>2010-01-04 09:53:00</td>\n",
       "      <td>3.900000</td>\n",
       "      <td>12346.0</td>\n",
       "      <td>United Kingdom</td>\n",
       "      <td>False</td>\n",
       "      <td>True</td>\n",
       "      <td>19.50</td>\n",
       "      <td>1</td>\n",
       "    </tr>\n",
       "    <tr>\n",
       "      <th>3</th>\n",
       "      <td>493413</td>\n",
       "      <td>21724</td>\n",
       "      <td>PANDA AND BUNNIES STICKER SHEET</td>\n",
       "      <td>1.0</td>\n",
       "      <td>2010-01-04 09:54:00</td>\n",
       "      <td>1.046759</td>\n",
       "      <td>12345.0</td>\n",
       "      <td>United Kingdom</td>\n",
       "      <td>False</td>\n",
       "      <td>True</td>\n",
       "      <td>1.05</td>\n",
       "      <td>1</td>\n",
       "    </tr>\n",
       "    <tr>\n",
       "      <th>4</th>\n",
       "      <td>493413</td>\n",
       "      <td>84578</td>\n",
       "      <td>ELEPHANT TOY WITH BLUE T-SHIRT</td>\n",
       "      <td>1.0</td>\n",
       "      <td>2010-01-04 09:54:00</td>\n",
       "      <td>3.834224</td>\n",
       "      <td>12345.0</td>\n",
       "      <td>United Kingdom</td>\n",
       "      <td>False</td>\n",
       "      <td>True</td>\n",
       "      <td>3.83</td>\n",
       "      <td>1</td>\n",
       "    </tr>\n",
       "  </tbody>\n",
       "</table>\n",
       "</div>"
      ],
      "text/plain": [
       "   Invoice StockCode                      Description  Quantity  \\\n",
       "0   493410   TEST001          This is a test product.       5.0   \n",
       "1  C493411     21539          RETRO SPOTS BUTTER DISH       1.0   \n",
       "2   493412   TEST001          This is a test product.       5.0   \n",
       "3   493413     21724  PANDA AND BUNNIES STICKER SHEET       1.0   \n",
       "4   493413     84578   ELEPHANT TOY WITH BLUE T-SHIRT       1.0   \n",
       "\n",
       "           InvoiceDate     Price  Customer_ID         Country  Devolucion  \\\n",
       "0  2010-01-04 09:24:00  3.900000      12346.0  United Kingdom       False   \n",
       "1  2010-01-04 09:43:00  5.796827      14590.0  United Kingdom        True   \n",
       "2  2010-01-04 09:53:00  3.900000      12346.0  United Kingdom       False   \n",
       "3  2010-01-04 09:54:00  1.046759      12345.0  United Kingdom       False   \n",
       "4  2010-01-04 09:54:00  3.834224      12345.0  United Kingdom       False   \n",
       "\n",
       "   Ventas  Precio_Total  Trimestres  \n",
       "0    True         19.50           1  \n",
       "1   False          5.80           1  \n",
       "2    True         19.50           1  \n",
       "3    True          1.05           1  \n",
       "4    True          3.83           1  "
      ]
     },
     "execution_count": 13,
     "metadata": {},
     "output_type": "execute_result"
    }
   ],
   "source": [
    "df_limpio.head(5)"
   ]
  },
  {
   "cell_type": "code",
   "execution_count": 14,
   "metadata": {},
   "outputs": [
    {
     "name": "stdout",
     "output_type": "stream",
     "text": [
      "Invoice             0\n",
      "StockCode           0\n",
      "Description         0\n",
      "Quantity         5753\n",
      "InvoiceDate         0\n",
      "Price            3653\n",
      "Customer_ID         0\n",
      "Country             0\n",
      "Devolucion          0\n",
      "Ventas              0\n",
      "Precio_Total    12248\n",
      "Trimestres          0\n",
      "dtype: int64\n"
     ]
    }
   ],
   "source": [
    "# Nulos despues de la funcion\n",
    "print(df_limpio.isna().sum())\n"
   ]
  },
  {
   "cell_type": "code",
   "execution_count": 15,
   "metadata": {},
   "outputs": [],
   "source": [
    "df_limpio = df_limpio.dropna(subset=[\"Price\", \"Precio_Total\", \"Quantity\"])"
   ]
  },
  {
   "cell_type": "code",
   "execution_count": 16,
   "metadata": {},
   "outputs": [],
   "source": [
    "df_limpio.Price = df_limpio.Price.round(2)"
   ]
  },
  {
   "cell_type": "code",
   "execution_count": 17,
   "metadata": {},
   "outputs": [
    {
     "data": {
      "text/html": [
       "<div>\n",
       "<style scoped>\n",
       "    .dataframe tbody tr th:only-of-type {\n",
       "        vertical-align: middle;\n",
       "    }\n",
       "\n",
       "    .dataframe tbody tr th {\n",
       "        vertical-align: top;\n",
       "    }\n",
       "\n",
       "    .dataframe thead th {\n",
       "        text-align: right;\n",
       "    }\n",
       "</style>\n",
       "<table border=\"1\" class=\"dataframe\">\n",
       "  <thead>\n",
       "    <tr style=\"text-align: right;\">\n",
       "      <th></th>\n",
       "      <th>Invoice</th>\n",
       "      <th>StockCode</th>\n",
       "      <th>Description</th>\n",
       "      <th>Quantity</th>\n",
       "      <th>InvoiceDate</th>\n",
       "      <th>Price</th>\n",
       "      <th>Customer_ID</th>\n",
       "      <th>Country</th>\n",
       "      <th>Devolucion</th>\n",
       "      <th>Ventas</th>\n",
       "      <th>Precio_Total</th>\n",
       "      <th>Trimestres</th>\n",
       "    </tr>\n",
       "  </thead>\n",
       "  <tbody>\n",
       "    <tr>\n",
       "      <th>0</th>\n",
       "      <td>493410</td>\n",
       "      <td>TEST001</td>\n",
       "      <td>This is a test product.</td>\n",
       "      <td>5.0</td>\n",
       "      <td>2010-01-04 09:24:00</td>\n",
       "      <td>3.90</td>\n",
       "      <td>12346.0</td>\n",
       "      <td>United Kingdom</td>\n",
       "      <td>False</td>\n",
       "      <td>True</td>\n",
       "      <td>19.50</td>\n",
       "      <td>1</td>\n",
       "    </tr>\n",
       "    <tr>\n",
       "      <th>1</th>\n",
       "      <td>C493411</td>\n",
       "      <td>21539</td>\n",
       "      <td>RETRO SPOTS BUTTER DISH</td>\n",
       "      <td>1.0</td>\n",
       "      <td>2010-01-04 09:43:00</td>\n",
       "      <td>5.80</td>\n",
       "      <td>14590.0</td>\n",
       "      <td>United Kingdom</td>\n",
       "      <td>True</td>\n",
       "      <td>False</td>\n",
       "      <td>5.80</td>\n",
       "      <td>1</td>\n",
       "    </tr>\n",
       "    <tr>\n",
       "      <th>2</th>\n",
       "      <td>493412</td>\n",
       "      <td>TEST001</td>\n",
       "      <td>This is a test product.</td>\n",
       "      <td>5.0</td>\n",
       "      <td>2010-01-04 09:53:00</td>\n",
       "      <td>3.90</td>\n",
       "      <td>12346.0</td>\n",
       "      <td>United Kingdom</td>\n",
       "      <td>False</td>\n",
       "      <td>True</td>\n",
       "      <td>19.50</td>\n",
       "      <td>1</td>\n",
       "    </tr>\n",
       "    <tr>\n",
       "      <th>3</th>\n",
       "      <td>493413</td>\n",
       "      <td>21724</td>\n",
       "      <td>PANDA AND BUNNIES STICKER SHEET</td>\n",
       "      <td>1.0</td>\n",
       "      <td>2010-01-04 09:54:00</td>\n",
       "      <td>1.05</td>\n",
       "      <td>12345.0</td>\n",
       "      <td>United Kingdom</td>\n",
       "      <td>False</td>\n",
       "      <td>True</td>\n",
       "      <td>1.05</td>\n",
       "      <td>1</td>\n",
       "    </tr>\n",
       "    <tr>\n",
       "      <th>4</th>\n",
       "      <td>493413</td>\n",
       "      <td>84578</td>\n",
       "      <td>ELEPHANT TOY WITH BLUE T-SHIRT</td>\n",
       "      <td>1.0</td>\n",
       "      <td>2010-01-04 09:54:00</td>\n",
       "      <td>3.83</td>\n",
       "      <td>12345.0</td>\n",
       "      <td>United Kingdom</td>\n",
       "      <td>False</td>\n",
       "      <td>True</td>\n",
       "      <td>3.83</td>\n",
       "      <td>1</td>\n",
       "    </tr>\n",
       "    <tr>\n",
       "      <th>...</th>\n",
       "      <td>...</td>\n",
       "      <td>...</td>\n",
       "      <td>...</td>\n",
       "      <td>...</td>\n",
       "      <td>...</td>\n",
       "      <td>...</td>\n",
       "      <td>...</td>\n",
       "      <td>...</td>\n",
       "      <td>...</td>\n",
       "      <td>...</td>\n",
       "      <td>...</td>\n",
       "      <td>...</td>\n",
       "    </tr>\n",
       "    <tr>\n",
       "      <th>479905</th>\n",
       "      <td>538171</td>\n",
       "      <td>22271</td>\n",
       "      <td>FELTCRAFT DOLL ROSIE</td>\n",
       "      <td>2.0</td>\n",
       "      <td>2010-12-09 20:01:00</td>\n",
       "      <td>3.21</td>\n",
       "      <td>17530.0</td>\n",
       "      <td>United Kingdom</td>\n",
       "      <td>False</td>\n",
       "      <td>True</td>\n",
       "      <td>6.41</td>\n",
       "      <td>4</td>\n",
       "    </tr>\n",
       "    <tr>\n",
       "      <th>479906</th>\n",
       "      <td>538171</td>\n",
       "      <td>22750</td>\n",
       "      <td>FELTCRAFT PRINCESS LOLA DOLL</td>\n",
       "      <td>1.0</td>\n",
       "      <td>2010-12-09 20:01:00</td>\n",
       "      <td>3.95</td>\n",
       "      <td>17530.0</td>\n",
       "      <td>United Kingdom</td>\n",
       "      <td>False</td>\n",
       "      <td>True</td>\n",
       "      <td>3.95</td>\n",
       "      <td>4</td>\n",
       "    </tr>\n",
       "    <tr>\n",
       "      <th>479907</th>\n",
       "      <td>538171</td>\n",
       "      <td>22751</td>\n",
       "      <td>FELTCRAFT PRINCESS OLIVIA DOLL</td>\n",
       "      <td>1.0</td>\n",
       "      <td>2010-12-09 20:01:00</td>\n",
       "      <td>4.02</td>\n",
       "      <td>17530.0</td>\n",
       "      <td>United Kingdom</td>\n",
       "      <td>False</td>\n",
       "      <td>True</td>\n",
       "      <td>4.02</td>\n",
       "      <td>4</td>\n",
       "    </tr>\n",
       "    <tr>\n",
       "      <th>479908</th>\n",
       "      <td>538171</td>\n",
       "      <td>20970</td>\n",
       "      <td>PINK FLORAL FELTCRAFT SHOULDER BAG</td>\n",
       "      <td>2.0</td>\n",
       "      <td>2010-12-09 20:01:00</td>\n",
       "      <td>4.14</td>\n",
       "      <td>17530.0</td>\n",
       "      <td>United Kingdom</td>\n",
       "      <td>False</td>\n",
       "      <td>True</td>\n",
       "      <td>8.28</td>\n",
       "      <td>4</td>\n",
       "    </tr>\n",
       "    <tr>\n",
       "      <th>479909</th>\n",
       "      <td>538171</td>\n",
       "      <td>21931</td>\n",
       "      <td>JUMBO STORAGE BAG SUKI</td>\n",
       "      <td>2.0</td>\n",
       "      <td>2010-12-09 20:01:00</td>\n",
       "      <td>2.31</td>\n",
       "      <td>17530.0</td>\n",
       "      <td>United Kingdom</td>\n",
       "      <td>False</td>\n",
       "      <td>True</td>\n",
       "      <td>4.62</td>\n",
       "      <td>4</td>\n",
       "    </tr>\n",
       "  </tbody>\n",
       "</table>\n",
       "<p>464683 rows × 12 columns</p>\n",
       "</div>"
      ],
      "text/plain": [
       "        Invoice StockCode                         Description  Quantity  \\\n",
       "0        493410   TEST001             This is a test product.       5.0   \n",
       "1       C493411     21539             RETRO SPOTS BUTTER DISH       1.0   \n",
       "2        493412   TEST001             This is a test product.       5.0   \n",
       "3        493413     21724     PANDA AND BUNNIES STICKER SHEET       1.0   \n",
       "4        493413     84578      ELEPHANT TOY WITH BLUE T-SHIRT       1.0   \n",
       "...         ...       ...                                 ...       ...   \n",
       "479905   538171     22271                FELTCRAFT DOLL ROSIE       2.0   \n",
       "479906   538171     22750        FELTCRAFT PRINCESS LOLA DOLL       1.0   \n",
       "479907   538171     22751      FELTCRAFT PRINCESS OLIVIA DOLL       1.0   \n",
       "479908   538171     20970  PINK FLORAL FELTCRAFT SHOULDER BAG       2.0   \n",
       "479909   538171     21931              JUMBO STORAGE BAG SUKI       2.0   \n",
       "\n",
       "                InvoiceDate  Price  Customer_ID         Country  Devolucion  \\\n",
       "0       2010-01-04 09:24:00   3.90      12346.0  United Kingdom       False   \n",
       "1       2010-01-04 09:43:00   5.80      14590.0  United Kingdom        True   \n",
       "2       2010-01-04 09:53:00   3.90      12346.0  United Kingdom       False   \n",
       "3       2010-01-04 09:54:00   1.05      12345.0  United Kingdom       False   \n",
       "4       2010-01-04 09:54:00   3.83      12345.0  United Kingdom       False   \n",
       "...                     ...    ...          ...             ...         ...   \n",
       "479905  2010-12-09 20:01:00   3.21      17530.0  United Kingdom       False   \n",
       "479906  2010-12-09 20:01:00   3.95      17530.0  United Kingdom       False   \n",
       "479907  2010-12-09 20:01:00   4.02      17530.0  United Kingdom       False   \n",
       "479908  2010-12-09 20:01:00   4.14      17530.0  United Kingdom       False   \n",
       "479909  2010-12-09 20:01:00   2.31      17530.0  United Kingdom       False   \n",
       "\n",
       "        Ventas  Precio_Total  Trimestres  \n",
       "0         True         19.50           1  \n",
       "1        False          5.80           1  \n",
       "2         True         19.50           1  \n",
       "3         True          1.05           1  \n",
       "4         True          3.83           1  \n",
       "...        ...           ...         ...  \n",
       "479905    True          6.41           4  \n",
       "479906    True          3.95           4  \n",
       "479907    True          4.02           4  \n",
       "479908    True          8.28           4  \n",
       "479909    True          4.62           4  \n",
       "\n",
       "[464683 rows x 12 columns]"
      ]
     },
     "execution_count": 17,
     "metadata": {},
     "output_type": "execute_result"
    }
   ],
   "source": [
    "# Limpiado los outliers\n",
    "df_limpio"
   ]
  },
  {
   "cell_type": "code",
   "execution_count": 18,
   "metadata": {},
   "outputs": [],
   "source": [
    "# Pongamos la columna Quantity como int\n",
    "df_limpio.Quantity = df_limpio.Quantity.astype(int)"
   ]
  },
  {
   "cell_type": "code",
   "execution_count": 19,
   "metadata": {},
   "outputs": [
    {
     "data": {
      "text/html": [
       "<div>\n",
       "<style scoped>\n",
       "    .dataframe tbody tr th:only-of-type {\n",
       "        vertical-align: middle;\n",
       "    }\n",
       "\n",
       "    .dataframe tbody tr th {\n",
       "        vertical-align: top;\n",
       "    }\n",
       "\n",
       "    .dataframe thead th {\n",
       "        text-align: right;\n",
       "    }\n",
       "</style>\n",
       "<table border=\"1\" class=\"dataframe\">\n",
       "  <thead>\n",
       "    <tr style=\"text-align: right;\">\n",
       "      <th></th>\n",
       "      <th>Invoice</th>\n",
       "      <th>StockCode</th>\n",
       "      <th>Description</th>\n",
       "      <th>Quantity</th>\n",
       "      <th>InvoiceDate</th>\n",
       "      <th>Price</th>\n",
       "      <th>Customer_ID</th>\n",
       "      <th>Country</th>\n",
       "      <th>Devolucion</th>\n",
       "      <th>Ventas</th>\n",
       "      <th>Precio_Total</th>\n",
       "      <th>Trimestres</th>\n",
       "    </tr>\n",
       "  </thead>\n",
       "  <tbody>\n",
       "    <tr>\n",
       "      <th>137889</th>\n",
       "      <td>506842</td>\n",
       "      <td>47567B</td>\n",
       "      <td>TEA TIME KITCHEN APRON</td>\n",
       "      <td>2</td>\n",
       "      <td>2010-05-04 14:07:00</td>\n",
       "      <td>6.1</td>\n",
       "      <td>16938.0</td>\n",
       "      <td>United Kingdom</td>\n",
       "      <td>False</td>\n",
       "      <td>True</td>\n",
       "      <td>12.19</td>\n",
       "      <td>2</td>\n",
       "    </tr>\n",
       "  </tbody>\n",
       "</table>\n",
       "</div>"
      ],
      "text/plain": [
       "       Invoice StockCode             Description  Quantity  \\\n",
       "137889  506842    47567B  TEA TIME KITCHEN APRON         2   \n",
       "\n",
       "                InvoiceDate  Price  Customer_ID         Country  Devolucion  \\\n",
       "137889  2010-05-04 14:07:00    6.1      16938.0  United Kingdom       False   \n",
       "\n",
       "        Ventas  Precio_Total  Trimestres  \n",
       "137889    True         12.19           2  "
      ]
     },
     "execution_count": 19,
     "metadata": {},
     "output_type": "execute_result"
    }
   ],
   "source": [
    "df_limpio.sample(1)"
   ]
  },
  {
   "cell_type": "code",
   "execution_count": 20,
   "metadata": {},
   "outputs": [
    {
     "data": {
      "text/plain": [
       "Country\n",
       "United Kingdom          430900\n",
       "EIRE                      8367\n",
       "Germany                   7267\n",
       "France                    5075\n",
       "Netherlands               1628\n",
       "Switzerland               1075\n",
       "Belgium                    975\n",
       "Portugal                   965\n",
       "Spain                      939\n",
       "Channel Islands            818\n",
       "Italy                      685\n",
       "Sweden                     668\n",
       "Australia                  532\n",
       "Austria                    474\n",
       "Greece                     454\n",
       "United Arab Emirates       364\n",
       "Cyprus                     345\n",
       "Finland                    337\n",
       "Norway                     332\n",
       "Denmark                    328\n",
       "Unspecified                307\n",
       "USA                        237\n",
       "Japan                      197\n",
       "Poland                     171\n",
       "Malta                      167\n",
       "Lithuania                  153\n",
       "Singapore                  115\n",
       "RSA                        108\n",
       "Bahrain                    106\n",
       "Canada                      77\n",
       "Iceland                     71\n",
       "Israel                      68\n",
       "Thailand                    67\n",
       "Korea                       63\n",
       "Brazil                      62\n",
       "Hong Kong                   60\n",
       "West Indies                 54\n",
       "Bermuda                     32\n",
       "Nigeria                     29\n",
       "Lebanon                     11\n",
       "Name: count, dtype: int64"
      ]
     },
     "execution_count": 20,
     "metadata": {},
     "output_type": "execute_result"
    }
   ],
   "source": [
    "df_limpio.Country.value_counts()"
   ]
  },
  {
   "cell_type": "code",
   "execution_count": 121,
   "metadata": {},
   "outputs": [],
   "source": [
    "# df_limpio.to_csv(\"online_retail_limpiado.csv\", index=False)"
   ]
  },
  {
   "cell_type": "code",
   "execution_count": 92,
   "metadata": {},
   "outputs": [
    {
     "name": "stdout",
     "output_type": "stream",
     "text": [
      "Dataset del trimestre 1 ha sido exportado como online_retail_Q1.csv\n",
      "Dataset del trimestre 2 ha sido exportado como online_retail_Q2.csv\n",
      "Dataset del trimestre 3 ha sido exportado como online_retail_Q3.csv\n",
      "Dataset del trimestre 4 ha sido exportado como online_retail_Q4.csv\n"
     ]
    }
   ],
   "source": [
    "# for trimestre in range(1,5):\n",
    "    df_trimestre = df_limpio[df_limpio[\"Trimestres\"] == trimestre]\n",
    "\n",
    "    file_name = f\"online_retail_Q{trimestre}.csv\"\n",
    "    df_trimestre.to_csv(file_name, index=False)\n",
    "    print(f\"Dataset del trimestre {trimestre} ha sido exportado como {file_name}\")"
   ]
  },
  {
   "cell_type": "markdown",
   "metadata": {},
   "source": [
    "## Lo tenemos todo en orden para empezar a pintar graficas y sacar conclusiones.\n",
    "    - No divagaremos e iremos directamente a por nuestros objetivos/hipótesis"
   ]
  },
  {
   "cell_type": "markdown",
   "metadata": {},
   "source": [
    "## **· EL Q4 FUE EL TRIMESTRE CON MAS VENTAS.**\n"
   ]
  },
  {
   "cell_type": "code",
   "execution_count": 25,
   "metadata": {},
   "outputs": [],
   "source": [
    "df_analisis = pd.read_csv(\"./data/online_retail_limpiado.csv\")"
   ]
  },
  {
   "cell_type": "code",
   "execution_count": 26,
   "metadata": {},
   "outputs": [
    {
     "name": "stdout",
     "output_type": "stream",
     "text": [
      "Trimestres\n",
      "1    1475439.82\n",
      "2    1640238.06\n",
      "3    1703022.62\n",
      "4    2295187.36\n",
      "Name: Precio_Total, dtype: float64\n"
     ]
    }
   ],
   "source": [
    "df_filtro_ventas_true = df_analisis[df_analisis.Ventas == True]\n",
    "\n",
    "ventas_trimestre_suma = df_filtro_ventas_true.groupby(\"Trimestres\")[\"Precio_Total\"].sum()\n",
    "\n",
    "print(ventas_trimestre_suma)"
   ]
  },
  {
   "cell_type": "code",
   "execution_count": 45,
   "metadata": {},
   "outputs": [
    {
     "name": "stderr",
     "output_type": "stream",
     "text": [
      "C:\\Users\\Usuario\\AppData\\Local\\Temp\\ipykernel_23368\\1211961141.py:5: FutureWarning: \n",
      "\n",
      "Passing `palette` without assigning `hue` is deprecated and will be removed in v0.14.0. Assign the `x` variable to `hue` and set `legend=False` for the same effect.\n",
      "\n",
      "  barras = sns.barplot(\n"
     ]
    },
    {
     "data": {
      "image/png": "[encoded data removed]",
      "text/plain": [
       "<Figure size 1000x600 with 1 Axes>"
      ]
     },
     "metadata": {},
     "output_type": "display_data"
    }
   ],
   "source": [
    "sns.set(style=\"whitegrid\")\n",
    "colores = sns.color_palette(\"coolwarm\", len(ventas_trimestre_suma))\n",
    "\n",
    "plt.figure(figsize=(10, 6))\n",
    "barras = sns.barplot(\n",
    "    x=ventas_trimestre_suma.index, \n",
    "    y=ventas_trimestre_suma.values, \n",
    "    palette=colores\n",
    ")\n",
    "for index, value in enumerate(ventas_trimestre_suma.values):\n",
    "    plt.text(x=index, y=value + 50000, s=f\"{value:,.0f}\",\n",
    "             color='black', ha='center', va='center', fontsize=10, fontweight='bold')\n",
    "plt.xlabel(\"Trimestres de 2010\", fontsize = 12, fontweight=\"bold\")\n",
    "plt.ylabel(\"Ingresos Totales (millones de euros)\", fontsize=12, fontweight=\"bold\")\n",
    "plt.title(\"EL Q4 FUE EL TRIMESTRE CON MAS VENTAS\", fontweight = \"bold\", color = \"darkblue\")\n",
    "sns.despine(left=True, bottom=True)\n",
    "plt.tight_layout()\n"
   ]
  },
  {
   "cell_type": "markdown",
   "metadata": {},
   "source": [
    "## **- Reino Unido es el país que más nos compra**"
   ]
  },
  {
   "cell_type": "code",
   "execution_count": 23,
   "metadata": {},
   "outputs": [],
   "source": [
    "ventas_paises = df_filtro_ventas_true.groupby(\"Country\")[\"Precio_Total\"].sum()"
   ]
  },
  {
   "cell_type": "code",
   "execution_count": 30,
   "metadata": {},
   "outputs": [],
   "source": [
    "top_5_paises = ventas_paises.sort_values(ascending=False).head(5)"
   ]
  },
  {
   "cell_type": "code",
   "execution_count": 33,
   "metadata": {},
   "outputs": [
    {
     "data": {
      "text/plain": [
       "array([6248038.69,  223331.68,  174266.91,  115054.53,   62271.91])"
      ]
     },
     "execution_count": 33,
     "metadata": {},
     "output_type": "execute_result"
    }
   ],
   "source": [
    "top_5_paises.values"
   ]
  },
  {
   "cell_type": "code",
   "execution_count": 34,
   "metadata": {},
   "outputs": [
    {
     "name": "stderr",
     "output_type": "stream",
     "text": [
      "C:\\Users\\Usuario\\AppData\\Local\\Temp\\ipykernel_23368\\2858721629.py:6: FutureWarning: \n",
      "\n",
      "Passing `palette` without assigning `hue` is deprecated and will be removed in v0.14.0. Assign the `y` variable to `hue` and set `legend=False` for the same effect.\n",
      "\n",
      "  sns.barplot(x = top_5_paises.values, y = top_5_paises.index, palette= colores_top_5_paises)\n"
     ]
    },
    {
     "data": {
      "image/png": "[encoded data removed]",
      "text/plain": [
       "<Figure size 1000x600 with 1 Axes>"
      ]
     },
     "metadata": {},
     "output_type": "display_data"
    }
   ],
   "source": [
    "sns.set(style=\"whitegrid\", palette=\"pastel\")\n",
    "\n",
    "plt.figure(figsize=(10, 6))\n",
    "colores_top_5_paises = sns.color_palette(\"viridis\", len(top_5_paises))\n",
    "\n",
    "sns.barplot(x = top_5_paises.values, y = top_5_paises.index, palette= colores_top_5_paises)\n",
    "\n",
    "for index, value in enumerate(top_5_paises.values):\n",
    "    plt.text(x=value + 10000, y= index, s=f\"{value:,.0f}\",\n",
    "             color='black', va='center', fontsize=10, fontweight='bold')\n",
    "    \n",
    "plt.xlabel(\"Ventas Totales\", fontsize = 12, fontweight=\"bold\")\n",
    "plt.ylabel(\"Paises\", fontsize=12, fontweight=\"bold\")\n",
    "plt.title(\"TOP 5 PAISES EN VENTAS TOTALES\", fontsize = 14, fontweight = \"bold\", color = \"darkblue\")\n",
    "sns.despine(left=True, bottom=True)\n",
    "plt.tight_layout()\n",
    "plt.show()\n"
   ]
  },
  {
   "cell_type": "markdown",
   "metadata": {},
   "source": [
    "## **- Las devoluciones son un 5% frente a las ventas.**"
   ]
  },
  {
   "cell_type": "code",
   "execution_count": 35,
   "metadata": {},
   "outputs": [],
   "source": [
    "total_ventas = len(df_analisis[df_analisis[\"Ventas\"] == True])\n",
    "total_devoluciones = len(df_analisis[df_analisis[\"Devolucion\"] == True])"
   ]
  },
  {
   "cell_type": "code",
   "execution_count": 36,
   "metadata": {},
   "outputs": [],
   "source": [
    "ventas_porcentaje = (total_ventas / len(df_analisis)) * 100\n",
    "devoluciones_porcentaje = (total_devoluciones / len(df_analisis)) * 100"
   ]
  },
  {
   "cell_type": "code",
   "execution_count": 38,
   "metadata": {},
   "outputs": [],
   "source": [
    "data_porcentaje = pd.DataFrame({\n",
    "    \"Categoria\" : [\"Ventas\", \"Devolucion\"],\n",
    "    \"Porcentaje\" : [ventas_porcentaje, devoluciones_porcentaje]\n",
    "})"
   ]
  },
  {
   "cell_type": "code",
   "execution_count": 91,
   "metadata": {},
   "outputs": [
    {
     "data": {
      "text/plain": [
       "Text(0.5, 1.0, 'Porcentaje de Devoluciones frente a Ventas')"
      ]
     },
     "execution_count": 91,
     "metadata": {},
     "output_type": "execute_result"
    },
    {
     "data": {
      "image/png": "[encoded data removed]",
      "text/plain": [
       "<Figure size 800x900 with 1 Axes>"
      ]
     },
     "metadata": {},
     "output_type": "display_data"
    }
   ],
   "source": [
    "plt.figure(figsize=(8, 9))\n",
    "plt.pie(data_porcentaje[\"Porcentaje\"], labels=data_porcentaje[\"Categoria\"], \n",
    "        startangle=90, colors=colores, explode=[0, 0.1], shadow=False, textprops={\"fontweight\" : \"light\", \"fontsize\":12}, pctdistance=0.8,)\n",
    "plt.annotate(   \n",
    "    \"2.0%\",\n",
    "    xy=(0.1, 0.8),\n",
    "    xytext=(0.4, 0.6),\n",
    "    fontsize=18, fontweight=\"bold\", color=\"black\",\n",
    "    arrowprops=dict(arrowstyle=\"->\", lw=1, color=\"black\")\n",
    ")\n",
    "plt.annotate(   \n",
    "    \"98.0%\",\n",
    "    xy=(0.0, 0.0),\n",
    "    xytext=(-0.3, -0.5),\n",
    "    fontsize=12, color=\"black\"\n",
    ")\n",
    "plt.title(\"Porcentaje de Devoluciones frente a Ventas\", fontsize=16, fontweight='bold')"
   ]
  },
  {
   "cell_type": "markdown",
   "metadata": {},
   "source": [
    "## **Saber mas**"
   ]
  },
  {
   "cell_type": "markdown",
   "metadata": {},
   "source": [
    "### - Cual es el producto mas vendido y su proyeccion durante el año"
   ]
  },
  {
   "cell_type": "code",
   "execution_count": 95,
   "metadata": {},
   "outputs": [],
   "source": [
    "# df_q1 = pd.read_csv(\"./data/online_retail_Q1.csv\")\n",
    "# df_q2 = pd.read_csv(\"./data/online_retail_Q2.csv\")\n",
    "# df_q3 = pd.read_csv(\"./data/online_retail_Q3.csv\")\n",
    "# df_q4 = pd.read_csv(\"./data/online_retail_Q4.csv\")"
   ]
  },
  {
   "cell_type": "code",
   "execution_count": 99,
   "metadata": {},
   "outputs": [
    {
     "name": "stdout",
     "output_type": "stream",
     "text": [
      "El Stockcode mas vendido es 85123A con un total de 30728\n"
     ]
    }
   ],
   "source": [
    "# Cuando hablamos de mas vendido, hablamos de mas cantidad\n",
    "producto_mas_vendido = df_analisis.groupby(\"StockCode\")[\"Quantity\"].sum()\n",
    "stockcode_max = producto_mas_vendido.idxmax()\n",
    "cantidad_max = producto_mas_vendido.max()\n",
    "print(F\"El Stockcode mas vendido es {stockcode_max} con un total de {cantidad_max}\")"
   ]
  },
  {
   "cell_type": "code",
   "execution_count": 114,
   "metadata": {},
   "outputs": [
    {
     "data": {
      "text/html": [
       "<div>\n",
       "<style scoped>\n",
       "    .dataframe tbody tr th:only-of-type {\n",
       "        vertical-align: middle;\n",
       "    }\n",
       "\n",
       "    .dataframe tbody tr th {\n",
       "        vertical-align: top;\n",
       "    }\n",
       "\n",
       "    .dataframe thead th {\n",
       "        text-align: right;\n",
       "    }\n",
       "</style>\n",
       "<table border=\"1\" class=\"dataframe\">\n",
       "  <thead>\n",
       "    <tr style=\"text-align: right;\">\n",
       "      <th></th>\n",
       "      <th>Trimestres</th>\n",
       "      <th>Quantity</th>\n",
       "    </tr>\n",
       "  </thead>\n",
       "  <tbody>\n",
       "    <tr>\n",
       "      <th>0</th>\n",
       "      <td>1</td>\n",
       "      <td>8184</td>\n",
       "    </tr>\n",
       "    <tr>\n",
       "      <th>1</th>\n",
       "      <td>2</td>\n",
       "      <td>7388</td>\n",
       "    </tr>\n",
       "    <tr>\n",
       "      <th>2</th>\n",
       "      <td>3</td>\n",
       "      <td>7800</td>\n",
       "    </tr>\n",
       "    <tr>\n",
       "      <th>3</th>\n",
       "      <td>4</td>\n",
       "      <td>7356</td>\n",
       "    </tr>\n",
       "  </tbody>\n",
       "</table>\n",
       "</div>"
      ],
      "text/plain": [
       "   Trimestres  Quantity\n",
       "0           1      8184\n",
       "1           2      7388\n",
       "2           3      7800\n",
       "3           4      7356"
      ]
     },
     "execution_count": 114,
     "metadata": {},
     "output_type": "execute_result"
    }
   ],
   "source": [
    "stockcode_objetivo = \"85123A\"\n",
    "\n",
    "df_stockcode = df_analisis[df_analisis.StockCode == stockcode_objetivo]\n",
    "\n",
    "evolucion_stockcode = df_stockcode.groupby(\"Trimestres\")[\"Quantity\"].sum().reset_index()\n",
    "evolucion_stockcode"
   ]
  },
  {
   "cell_type": "code",
   "execution_count": 128,
   "metadata": {},
   "outputs": [
    {
     "data": {
      "image/png": "[encoded data removed]",
      "text/plain": [
       "<Figure size 1000x600 with 1 Axes>"
      ]
     },
     "metadata": {},
     "output_type": "display_data"
    }
   ],
   "source": [
    "plt.figure(figsize=(10,6))\n",
    "plt.plot(evolucion_stockcode[\"Trimestres\"], evolucion_stockcode[\"Quantity\"],\n",
    "         marker = \"o\", linestyle = \"-\", color = \"#2C82C9\", linewidth = 2, markersize = 8, label = \"Cantidad Vendida\")\n",
    "\n",
    "\n",
    "y_min, y_max = evolucion_stockcode[\"Quantity\"].min(), evolucion_stockcode[\"Quantity\"].max()\n",
    "plt.ylim(y_min - 100, y_max + 100)\n",
    "\n",
    "for i, value in enumerate(evolucion_stockcode[\"Quantity\"]):\n",
    "    plt.text(evolucion_stockcode[\"Trimestres\"][i], value + 50, f\"{value}\",\n",
    "             ha = \"center\", va = \"bottom\", fontsize = 10, fontweight = \"bold\", color = \"black\")\n",
    "    \n",
    "plt.title(\"Evolucion de Ventas del StockCode Mas Vendido\", fontsize = 16, fontweight = \"bold\", color = \"black\")\n",
    "plt.xlabel(\"Trimestres\", fontsize = 12, fontweight = \"bold\", color = \"black\")\n",
    "plt.ylabel(\"Cantidad Vendida\", fontsize = 12, fontweight = \"bold\", color = \"black\")\n",
    "\n",
    "plt.grid(visible=True, linestyle=\"--\", alpha=0.6)\n",
    "\n",
    "plt.xticks(evolucion_stockcode[\"Trimestres\"], fontsize=10, fontweight=\"light\")\n",
    "plt.yticks(fontsize=10)\n",
    "\n",
    "plt.legend(loc=\"upper right\", fontsize = 10, frameon = False)\n",
    "plt.tight_layout()\n",
    "plt.show()"
   ]
  },
  {
   "cell_type": "markdown",
   "metadata": {},
   "source": [
    "### - Producto mas devuelto y visto por Trimestres"
   ]
  },
  {
   "cell_type": "code",
   "execution_count": null,
   "metadata": {},
   "outputs": [],
   "source": []
  },
  {
   "cell_type": "markdown",
   "metadata": {},
   "source": [
    "### - Precio medio de compra por Factura/Ticket"
   ]
  },
  {
   "cell_type": "code",
   "execution_count": null,
   "metadata": {},
   "outputs": [],
   "source": []
  },
  {
   "cell_type": "markdown",
   "metadata": {},
   "source": [
    "### - El pais que mas devuelve"
   ]
  },
  {
   "cell_type": "code",
   "execution_count": null,
   "metadata": {},
   "outputs": [],
   "source": []
  },
  {
   "cell_type": "markdown",
   "metadata": {},
   "source": []
  }
 ],
 "metadata": {
  "kernelspec": {
   "display_name": "Python 3",
   "language": "python",
   "name": "python3"
  },
  "language_info": {
   "codemirror_mode": {
    "name": "ipython",
    "version": 3
   },
   "file_extension": ".py",
   "mimetype": "text/x-python",
   "name": "python",
   "nbconvert_exporter": "python",
   "pygments_lexer": "ipython3",
   "version": "3.12.7"
  }
 },
 "nbformat": 4,
 "nbformat_minor": 2
}
