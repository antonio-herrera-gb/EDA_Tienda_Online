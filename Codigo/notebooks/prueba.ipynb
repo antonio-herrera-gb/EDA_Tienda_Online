{
 "cells": [
  {
   "cell_type": "code",
   "execution_count": 7,
   "metadata": {},
   "outputs": [],
   "source": [
    "import requests\n",
    "from bs4 import BeautifulSoup\n",
    "import pandas as pd\n",
    "import time\n"
   ]
  },
  {
   "cell_type": "code",
   "execution_count": 8,
   "metadata": {},
   "outputs": [],
   "source": [
    "base_url = \"https://www.adidas.es/zapatillas?start={}\""
   ]
  },
  {
   "cell_type": "code",
   "execution_count": 9,
   "metadata": {},
   "outputs": [],
   "source": [
    "session = requests.Session()\n",
    "\n",
    "# Configurar las cabeceras\n",
    "session.headers.update({\n",
    "    'User-Agent': 'Mozilla/5.0 (Windows NT 10.0; Win64; x64) AppleWebKit/537.36 (KHTML, like Gecko) Chrome/111.0.0.0 Safari/537.36',\n",
    "    'Accept': 'text/html,application/xhtml+xml,application/xml;q=0.9,image/avif,image/webp,*/*;q=0.8',\n",
    "    'Accept-Language': 'es-ES,es;q=0.9',\n",
    "    'Accept-Encoding': 'gzip, deflate, br',\n",
    "    'Referer': 'https://www.adidas.es',\n",
    "    'Connection': 'keep-alive',\n",
    "    'Upgrade-Insecure-Requests': '1',\n",
    "})\n"
   ]
  },
  {
   "cell_type": "code",
   "execution_count": 10,
   "metadata": {},
   "outputs": [],
   "source": [
    "product_names = []\n",
    "product_prices = []\n",
    "product_descriptions = []\n",
    "product_colors = []\n",
    "product_categories = []"
   ]
  },
  {
   "cell_type": "code",
   "execution_count": 11,
   "metadata": {},
   "outputs": [],
   "source": [
    "max_products = 2053\n",
    "increment = 48"
   ]
  },
  {
   "cell_type": "code",
   "execution_count": 12,
   "metadata": {},
   "outputs": [
    {
     "name": "stdout",
     "output_type": "stream",
     "text": [
      "Scraping página con start=0...\n",
      "Error al acceder a la página con start=0, status_code: 403\n",
      "Nombres extraídos: []\n"
     ]
    }
   ],
   "source": [
    "for start in range(0, max_products, increment):\n",
    "    print(f\"Scraping página con start={start}...\")\n",
    "    \n",
    "    # Formatear la URL\n",
    "    url = base_url.format(start)\n",
    "    \n",
    "    # Solicitar contenido de la página con cabeceras\n",
    "    response = session.get(url)\n",
    "    if response.status_code != 200:\n",
    "        print(f\"Error al acceder a la página con start={start}, status_code: {response.status_code}\")\n",
    "        break\n",
    "    \n",
    "    # Parsear HTML\n",
    "    soup = BeautifulSoup(response.content, 'html.parser')\n",
    "    \n",
    "    names = [tag.text.strip() for tag in soup.find_all('p', {'data-testid': 'product-card-title'})]\n",
    "    product_names.extend(names)\n",
    "    time.sleep(5)  # Pausa para evitar bloqueos\n",
    "\n",
    "print(\"Nombres extraídos:\", product_names)"
   ]
  },
  {
   "cell_type": "code",
   "execution_count": null,
   "metadata": {},
   "outputs": [],
   "source": []
  }
 ],
 "metadata": {
  "kernelspec": {
   "display_name": "Python 3",
   "language": "python",
   "name": "python3"
  },
  "language_info": {
   "codemirror_mode": {
    "name": "ipython",
    "version": 3
   },
   "file_extension": ".py",
   "mimetype": "text/x-python",
   "name": "python",
   "nbconvert_exporter": "python",
   "pygments_lexer": "ipython3",
   "version": "3.13.0"
  }
 },
 "nbformat": 4,
 "nbformat_minor": 2
}
